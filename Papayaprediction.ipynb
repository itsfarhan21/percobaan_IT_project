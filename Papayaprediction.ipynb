{
  "nbformat": 4,
  "nbformat_minor": 0,
  "metadata": {
    "colab": {
      "provenance": [],
      "collapsed_sections": []
    },
    "kernelspec": {
      "name": "python3",
      "display_name": "Python 3"
    },
    "language_info": {
      "name": "python"
    }
  },
  "cells": [
    {
      "cell_type": "code",
      "execution_count": 27,
      "metadata": {
        "id": "f5HA_JMdif3h"
      },
      "outputs": [],
      "source": [
        "import os\n",
        "import zipfile\n",
        "import random\n",
        "import tensorflow as tf\n",
        "from tensorflow.keras.optimizers import RMSprop\n",
        "from tensorflow.keras.preprocessing.image import ImageDataGenerator\n",
        "from shutil import copyfile\n",
        "import shutil\n",
        "import numpy as np\n",
        "import matplotlib.pyplot as plt\n",
        "from tensorflow.keras.models import Model\n",
        "from tensorflow.keras.models import load_model"
      ]
    },
    {
      "cell_type": "markdown",
      "source": [],
      "metadata": {
        "id": "fNCgrhgQkpQk"
      }
    },
    {
      "cell_type": "code",
      "source": [
        "from google.colab import drive\n",
        "drive.mount(\"/content/MyDrive\")"
      ],
      "metadata": {
        "colab": {
          "base_uri": "https://localhost:8080/"
        },
        "id": "Xdy7gjjKiglY",
        "outputId": "c31d861d-9c6b-40e9-f9f4-6e5584a89769"
      },
      "execution_count": 28,
      "outputs": [
        {
          "output_type": "stream",
          "name": "stdout",
          "text": [
            "Drive already mounted at /content/MyDrive; to attempt to forcibly remount, call drive.mount(\"/content/MyDrive\", force_remount=True).\n"
          ]
        }
      ]
    },
    {
      "cell_type": "code",
      "source": [
        "local_zip = '/content/MyDrive/MyDrive/datasetpepaya.zip'\n",
        "zip_ref = zipfile.ZipFile(local_zip, 'r')\n",
        "zip_ref.extractall(\"/tmp\")\n",
        "zip_ref.close()"
      ],
      "metadata": {
        "id": "o37clOcyigoF"
      },
      "execution_count": 33,
      "outputs": []
    },
    {
      "cell_type": "code",
      "source": [
        "def split_data(SOURCE, TRAINING, TESTING, SPLIT_SIZE):\n",
        "\n",
        "  files=[]\n",
        "  for filename in os.listdir(SOURCE):\n",
        "    file = SOURCE + filename\n",
        "    if os.path.getsize(file) > 0:\n",
        "      files.append(filename)\n",
        "    else:\n",
        "      print('File is empty')\n",
        "\n",
        "    training_length = int(len(files) * SPLIT_SIZE)\n",
        "    testing_length = int(len(files) - training_length)\n",
        "    shuffled_set = random.sample(files, len(files))\n",
        "    training_set = shuffled_set[0:training_length]\n",
        "    testing_set = shuffled_set[-testing_length:]\n",
        "  \n",
        "  for filename in training_set:\n",
        "    src_file = SOURCE + filename\n",
        "    dest_file = TRAINING + filename\n",
        "    copyfile(src_file, dest_file)\n",
        "    \n",
        "  for filename in testing_set:\n",
        "    src_file = SOURCE + filename\n",
        "    dest_file = TESTING + filename\n",
        "    copyfile(src_file, dest_file)"
      ],
      "metadata": {
        "id": "UZT237tIigqj"
      },
      "execution_count": 34,
      "outputs": []
    },
    {
      "cell_type": "code",
      "source": [
        "model = tf.keras.models.Sequential([\n",
        "    tf.keras.layers.Conv2D(16,(3,3), activation = 'relu', input_shape=(150,150,3)),\n",
        "    tf.keras.layers.MaxPooling2D(2,2),\n",
        "    tf.keras.layers.Conv2D(32,(3,3), activation = 'relu'),\n",
        "    tf.keras.layers.MaxPooling2D(2,2),\n",
        "    tf.keras.layers.Conv2D(64,(3,3), activation = 'relu'),\n",
        "    tf.keras.layers.MaxPooling2D(2,2),\n",
        "    tf.keras.layers.Flatten(),\n",
        "    tf.keras.layers.Dense(512, activation = 'relu'),\n",
        "    tf.keras.layers.Dense(1, activation='sigmoid')\n",
        "])\n",
        "\n",
        "model.compile(optimizer=RMSprop(learning_rate=0.001), loss='binary_crossentropy', metrics=['acc'])\n",
        "\n",
        "TRAINING_DIR = '/tmp/papaya_image/'\n",
        "train_datagen = ImageDataGenerator(rescale=1.0/255.)\n",
        "train_generator = train_datagen.flow_from_directory(TRAINING_DIR,\n",
        "                                                         batch_size=100,\n",
        "                                                         class_mode='categorical', \n",
        "                                                         target_size=(150,150))\n",
        "\n",
        "VALIDATION_DIR = '/tmp/papaya_image/'\n",
        "validation_datagen = ImageDataGenerator(rescale=1.0/255.)\n",
        "validation_generator = validation_datagen.flow_from_directory(VALIDATION_DIR,\n",
        "                                                         batch_size=100,\n",
        "                                                         class_mode='categorical', \n",
        "                                                         target_size=(150,150))"
      ],
      "metadata": {
        "colab": {
          "base_uri": "https://localhost:8080/"
        },
        "id": "zDEZhHv_oVWg",
        "outputId": "a474843a-aa59-4486-9f7b-43892ce42849"
      },
      "execution_count": 42,
      "outputs": [
        {
          "output_type": "stream",
          "name": "stdout",
          "text": [
            "Found 300 images belonging to 1 classes.\n",
            "Found 300 images belonging to 1 classes.\n"
          ]
        }
      ]
    },
    {
      "cell_type": "code",
      "source": [
        "history = model.fit(train_generator,\n",
        "                              epochs=25,\n",
        "                              verbose=1,\n",
        "                              validation_data=validation_generator)"
      ],
      "metadata": {
        "colab": {
          "base_uri": "https://localhost:8080/"
        },
        "id": "Zi7KXRwKoVZD",
        "outputId": "1c90b998-5801-4d6f-b919-3415424eb36e"
      },
      "execution_count": 43,
      "outputs": [
        {
          "output_type": "stream",
          "name": "stdout",
          "text": [
            "Epoch 1/25\n",
            "3/3 [==============================] - 68s 26s/step - loss: 0.2235 - acc: 0.9633 - val_loss: 2.9536e-16 - val_acc: 1.0000\n",
            "Epoch 2/25\n",
            "3/3 [==============================] - 54s 22s/step - loss: 2.9536e-16 - acc: 1.0000 - val_loss: 2.9536e-16 - val_acc: 1.0000\n",
            "Epoch 3/25\n",
            "3/3 [==============================] - 55s 22s/step - loss: 2.9536e-16 - acc: 1.0000 - val_loss: 2.9536e-16 - val_acc: 1.0000\n",
            "Epoch 4/25\n",
            "3/3 [==============================] - 53s 21s/step - loss: 2.9536e-16 - acc: 1.0000 - val_loss: 2.9536e-16 - val_acc: 1.0000\n",
            "Epoch 5/25\n",
            "3/3 [==============================] - 54s 22s/step - loss: 2.9536e-16 - acc: 1.0000 - val_loss: 2.9536e-16 - val_acc: 1.0000\n",
            "Epoch 6/25\n",
            "3/3 [==============================] - 54s 21s/step - loss: 2.9536e-16 - acc: 1.0000 - val_loss: 2.9536e-16 - val_acc: 1.0000\n",
            "Epoch 7/25\n",
            "3/3 [==============================] - 53s 22s/step - loss: 2.9536e-16 - acc: 1.0000 - val_loss: 2.9536e-16 - val_acc: 1.0000\n",
            "Epoch 8/25\n",
            "3/3 [==============================] - 53s 21s/step - loss: 2.9536e-16 - acc: 1.0000 - val_loss: 2.9536e-16 - val_acc: 1.0000\n",
            "Epoch 9/25\n",
            "3/3 [==============================] - 55s 21s/step - loss: 2.9536e-16 - acc: 1.0000 - val_loss: 2.9536e-16 - val_acc: 1.0000\n",
            "Epoch 10/25\n",
            "3/3 [==============================] - 53s 21s/step - loss: 2.9536e-16 - acc: 1.0000 - val_loss: 2.9536e-16 - val_acc: 1.0000\n",
            "Epoch 11/25\n",
            "3/3 [==============================] - 53s 21s/step - loss: 2.9536e-16 - acc: 1.0000 - val_loss: 2.9536e-16 - val_acc: 1.0000\n",
            "Epoch 12/25\n",
            "3/3 [==============================] - 52s 21s/step - loss: 2.9536e-16 - acc: 1.0000 - val_loss: 2.9536e-16 - val_acc: 1.0000\n",
            "Epoch 13/25\n",
            "3/3 [==============================] - 52s 21s/step - loss: 2.9536e-16 - acc: 1.0000 - val_loss: 2.9536e-16 - val_acc: 1.0000\n",
            "Epoch 14/25\n",
            "3/3 [==============================] - 52s 21s/step - loss: 2.9536e-16 - acc: 1.0000 - val_loss: 2.9536e-16 - val_acc: 1.0000\n",
            "Epoch 15/25\n",
            "3/3 [==============================] - 53s 21s/step - loss: 2.9536e-16 - acc: 1.0000 - val_loss: 2.9536e-16 - val_acc: 1.0000\n",
            "Epoch 16/25\n",
            "3/3 [==============================] - 53s 21s/step - loss: 2.9536e-16 - acc: 1.0000 - val_loss: 2.9536e-16 - val_acc: 1.0000\n",
            "Epoch 17/25\n",
            "3/3 [==============================] - 53s 21s/step - loss: 2.9536e-16 - acc: 1.0000 - val_loss: 2.9536e-16 - val_acc: 1.0000\n",
            "Epoch 18/25\n",
            "3/3 [==============================] - 52s 21s/step - loss: 2.9536e-16 - acc: 1.0000 - val_loss: 2.9536e-16 - val_acc: 1.0000\n",
            "Epoch 19/25\n",
            "3/3 [==============================] - 52s 21s/step - loss: 2.9536e-16 - acc: 1.0000 - val_loss: 2.9536e-16 - val_acc: 1.0000\n",
            "Epoch 20/25\n",
            "3/3 [==============================] - 52s 20s/step - loss: 2.9536e-16 - acc: 1.0000 - val_loss: 2.9536e-16 - val_acc: 1.0000\n",
            "Epoch 21/25\n",
            "3/3 [==============================] - 55s 21s/step - loss: 2.9536e-16 - acc: 1.0000 - val_loss: 2.9536e-16 - val_acc: 1.0000\n",
            "Epoch 22/25\n",
            "3/3 [==============================] - 52s 21s/step - loss: 2.9536e-16 - acc: 1.0000 - val_loss: 2.9536e-16 - val_acc: 1.0000\n",
            "Epoch 23/25\n",
            "3/3 [==============================] - 53s 21s/step - loss: 2.9536e-16 - acc: 1.0000 - val_loss: 2.9536e-16 - val_acc: 1.0000\n",
            "Epoch 24/25\n",
            "3/3 [==============================] - 52s 21s/step - loss: 2.9536e-16 - acc: 1.0000 - val_loss: 2.9536e-16 - val_acc: 1.0000\n",
            "Epoch 25/25\n",
            "3/3 [==============================] - 52s 21s/step - loss: 2.9536e-16 - acc: 1.0000 - val_loss: 2.9536e-16 - val_acc: 1.0000\n"
          ]
        }
      ]
    }
  ]
}